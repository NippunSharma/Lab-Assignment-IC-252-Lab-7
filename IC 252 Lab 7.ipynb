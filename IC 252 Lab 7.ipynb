{
 "cells": [
  {
   "cell_type": "markdown",
   "metadata": {},
   "source": [
    "# IC 252 Lab 7"
   ]
  },
  {
   "cell_type": "code",
   "execution_count": 129,
   "metadata": {},
   "outputs": [
    {
     "name": "stdout",
     "output_type": "stream",
     "text": [
      "Covarince b/w x and y: 17.45\n",
      "Correlation b/w x and y: 0.9828217793259992\n"
     ]
    }
   ],
   "source": [
    "# Name: Nippun Sharma\n",
    "# Roll number: B19097\n",
    "# Branch: Computer Science and Engineering\n",
    "\n",
    "\n",
    "import numpy as np # using numpy for vectorization so that the code runs faster and does not take too long\n",
    "\n",
    "# Making helper functions\n",
    "\n",
    "def mean(x):\n",
    "    e_x=0\n",
    "    for i in range(len(x)):\n",
    "        e_x+=x[i]\n",
    "    return e_x/len(x)\n",
    "\n",
    "def sample_covariance(x,y):\n",
    "    return np.sum((np.array(x)-mean(x))*(np.array(y)-mean(y)))/(len(x)-1) \n",
    "\n",
    "def sample_variance(x):\n",
    "    return np.sum((np.array(x)-mean(x))**2)/(len(x)-1)\n",
    "\n",
    "def correlation(x,y):\n",
    "    corr=sample_covariance(x,y)/(((sample_variance(x))**(0.5))*((sample_variance(y))**(0.5)))\n",
    "    return corr\n",
    "\n",
    "# Q1 -------------\n",
    "x=[15,17,20,21,25]\n",
    "y=[9,13,16,18,21]\n",
    "\n",
    "covariance=sample_covariance(x,y)\n",
    "print('Covarince b/w x and y:',covariance)\n",
    "\n",
    "# Q2 -------------\n",
    "x=[15,17,20,21,25]\n",
    "y=[9,13,16,18,21]\n",
    "\n",
    "corr=correlation(x,y)\n",
    "print('Correlation b/w x and y:',corr)"
   ]
  },
  {
   "cell_type": "code",
   "execution_count": 130,
   "metadata": {},
   "outputs": [],
   "source": [
    "# Q3 ---------------\n",
    "import pandas as pd\n",
    "data=pd.read_csv(r'C:\\Users\\Nippun Sharma\\Downloads\\BNG-Device.csv')"
   ]
  },
  {
   "cell_type": "code",
   "execution_count": 131,
   "metadata": {},
   "outputs": [
    {
     "name": "stdout",
     "output_type": "stream",
     "text": [
      "<class 'pandas.core.frame.DataFrame'>\n",
      "RangeIndex: 2326 entries, 0 to 2325\n",
      "Data columns (total 5 columns):\n",
      " #   Column               Non-Null Count  Dtype  \n",
      "---  ------               --------------  -----  \n",
      " 0   Dates                2326 non-null   object \n",
      " 1   Active-Count         2326 non-null   int64  \n",
      " 2   CPU-Utilization      2326 non-null   float64\n",
      " 3   Total-Memory-Usage   2324 non-null   float64\n",
      " 4   Average-Temperature  2326 non-null   float64\n",
      "dtypes: float64(3), int64(1), object(1)\n",
      "memory usage: 91.0+ KB\n"
     ]
    }
   ],
   "source": [
    "data.info()"
   ]
  },
  {
   "cell_type": "code",
   "execution_count": 132,
   "metadata": {},
   "outputs": [
    {
     "data": {
      "text/plain": [
       "Dates                  False\n",
       "Active-Count           False\n",
       "CPU-Utilization        False\n",
       "Total-Memory-Usage      True\n",
       "Average-Temperature    False\n",
       "dtype: bool"
      ]
     },
     "execution_count": 132,
     "metadata": {},
     "output_type": "execute_result"
    }
   ],
   "source": [
    "data.isna().any() # finding null values"
   ]
  },
  {
   "cell_type": "code",
   "execution_count": 133,
   "metadata": {},
   "outputs": [],
   "source": [
    "data=data.fillna(data.mean()) # filling null values with mean "
   ]
  },
  {
   "cell_type": "code",
   "execution_count": 134,
   "metadata": {},
   "outputs": [
    {
     "data": {
      "text/plain": [
       "Dates                  False\n",
       "Active-Count           False\n",
       "CPU-Utilization        False\n",
       "Total-Memory-Usage     False\n",
       "Average-Temperature    False\n",
       "dtype: bool"
      ]
     },
     "execution_count": 134,
     "metadata": {},
     "output_type": "execute_result"
    }
   ],
   "source": [
    "data.isna().any()"
   ]
  },
  {
   "cell_type": "code",
   "execution_count": 135,
   "metadata": {},
   "outputs": [],
   "source": [
    "active_count=data['Active-Count']\n",
    "cpu_utils=data['CPU-Utilization']\n",
    "memory=data['Total-Memory-Usage']\n",
    "temp=data['Average-Temperature']"
   ]
  },
  {
   "cell_type": "code",
   "execution_count": 136,
   "metadata": {},
   "outputs": [],
   "source": [
    "# interpretation function\n",
    "def interpretation(corr):\n",
    "    if(abs(corr)==0):\n",
    "        return 'None'\n",
    "    elif(abs(corr)<=0.1):\n",
    "        return 'Weak'\n",
    "    elif(abs(corr)>0.1 and abs(corr)<=0.3):\n",
    "        return 'Moderate'\n",
    "    elif(abs(corr)>0.3 and abs(corr)<=0.5):\n",
    "        return 'Strong'\n",
    "    elif(abs(corr)>0.5 and abs(corr)<1.0):\n",
    "        return 'Very Strong'\n",
    "    elif(abs(corr)==1.0):\n",
    "        return 'Perfect'\n",
    "\n",
    "# Active Count and CPU-Utilization\n",
    "corr_1=correlation(active_count,cpu_utils)\n",
    "\n",
    "# CPU-Utilization and Total Memory Usage\n",
    "corr_2=correlation(cpu_utils,memory)\n",
    "\n",
    "# CPU-Utilization and Average Temperature\n",
    "corr_3=correlation(cpu_utils,temp)\n",
    "\n",
    "# Active Count and Average Temperature\n",
    "corr_4=correlation(active_count,temp)\n",
    "\n",
    "# Total Memory usage and Average Temperature\n",
    "corr_5=correlation(memory,temp)\n",
    "\n",
    "\n",
    "# creating a dataframe to visualize results in a better way\n",
    "corr_dataframe=pd.DataFrame({'Attribute 1':['Active-Count','CPU-Utilization','CPU-Utilization','Active-Count','Total-Memory-Usage'],\n",
    "                             'Attribute 2':['CPU-Utilization','Total-Memory-Usage','Average-Temperature','Average-Temperature','Average-Temperature'],\n",
    "                             'Correlation Coefficient':[corr_1,corr_2,corr_3,corr_4,corr_5],\n",
    "                             'Interpretation':[interpretation(corr_1),interpretation(corr_2),interpretation(corr_3),interpretation(corr_4),interpretation(corr_5)]})"
   ]
  },
  {
   "cell_type": "code",
   "execution_count": 137,
   "metadata": {},
   "outputs": [
    {
     "data": {
      "text/html": [
       "<div>\n",
       "<style scoped>\n",
       "    .dataframe tbody tr th:only-of-type {\n",
       "        vertical-align: middle;\n",
       "    }\n",
       "\n",
       "    .dataframe tbody tr th {\n",
       "        vertical-align: top;\n",
       "    }\n",
       "\n",
       "    .dataframe thead th {\n",
       "        text-align: right;\n",
       "    }\n",
       "</style>\n",
       "<table border=\"1\" class=\"dataframe\">\n",
       "  <thead>\n",
       "    <tr style=\"text-align: right;\">\n",
       "      <th></th>\n",
       "      <th>Attribute 1</th>\n",
       "      <th>Attribute 2</th>\n",
       "      <th>Correlation Coefficient</th>\n",
       "      <th>Interpretation</th>\n",
       "    </tr>\n",
       "  </thead>\n",
       "  <tbody>\n",
       "    <tr>\n",
       "      <th>0</th>\n",
       "      <td>Active-Count</td>\n",
       "      <td>CPU-Utilization</td>\n",
       "      <td>0.706058</td>\n",
       "      <td>Very Strong</td>\n",
       "    </tr>\n",
       "    <tr>\n",
       "      <th>1</th>\n",
       "      <td>CPU-Utilization</td>\n",
       "      <td>Total-Memory-Usage</td>\n",
       "      <td>-0.039565</td>\n",
       "      <td>Weak</td>\n",
       "    </tr>\n",
       "    <tr>\n",
       "      <th>2</th>\n",
       "      <td>CPU-Utilization</td>\n",
       "      <td>Average-Temperature</td>\n",
       "      <td>0.096767</td>\n",
       "      <td>Weak</td>\n",
       "    </tr>\n",
       "    <tr>\n",
       "      <th>3</th>\n",
       "      <td>Active-Count</td>\n",
       "      <td>Average-Temperature</td>\n",
       "      <td>0.049837</td>\n",
       "      <td>Weak</td>\n",
       "    </tr>\n",
       "    <tr>\n",
       "      <th>4</th>\n",
       "      <td>Total-Memory-Usage</td>\n",
       "      <td>Average-Temperature</td>\n",
       "      <td>0.047007</td>\n",
       "      <td>Weak</td>\n",
       "    </tr>\n",
       "  </tbody>\n",
       "</table>\n",
       "</div>"
      ],
      "text/plain": [
       "          Attribute 1          Attribute 2  Correlation Coefficient  \\\n",
       "0        Active-Count      CPU-Utilization                 0.706058   \n",
       "1     CPU-Utilization   Total-Memory-Usage                -0.039565   \n",
       "2     CPU-Utilization  Average-Temperature                 0.096767   \n",
       "3        Active-Count  Average-Temperature                 0.049837   \n",
       "4  Total-Memory-Usage  Average-Temperature                 0.047007   \n",
       "\n",
       "  Interpretation  \n",
       "0    Very Strong  \n",
       "1           Weak  \n",
       "2           Weak  \n",
       "3           Weak  \n",
       "4           Weak  "
      ]
     },
     "execution_count": 137,
     "metadata": {},
     "output_type": "execute_result"
    }
   ],
   "source": [
    "corr_dataframe"
   ]
  }
 ],
 "metadata": {
  "kernelspec": {
   "display_name": "Python 3",
   "language": "python",
   "name": "python3"
  },
  "language_info": {
   "codemirror_mode": {
    "name": "ipython",
    "version": 3
   },
   "file_extension": ".py",
   "mimetype": "text/x-python",
   "name": "python",
   "nbconvert_exporter": "python",
   "pygments_lexer": "ipython3",
   "version": "3.7.3"
  }
 },
 "nbformat": 4,
 "nbformat_minor": 4
}
